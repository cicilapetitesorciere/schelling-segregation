{
 "cells": [
  {
   "cell_type": "code",
   "execution_count": null,
   "metadata": {},
   "outputs": [],
   "source": [
    "from board import *\n",
    "from display import *\n",
    "import random\n",
    "\n",
    "random.seed(\"Let's go Schelling!\")\n",
    "\n",
    "n_simulations = 4\n",
    "thresholds          = (0.2,     0.35,           0.5,        0.6)\n",
    "colours             = ('blue',  'orange',       'green',    'purple')\n",
    "boards              = ([],      [],             [],         [])\n",
    "conspecificities    = ([],      [],             [],         [])\n",
    "\n",
    "\n",
    "for i in range(n_simulations):\n",
    "    for _ in range(10):\n",
    "        board = Board(\n",
    "            shape=(10,10),\n",
    "            n = int(0.6*10*10/3),\n",
    "            thresholds=thresholds[i],\n",
    "            k=3,\n",
    "        )\n",
    "        for _ in range(1000):\n",
    "            board.update()\n",
    "        boards[i].append(board)\n",
    "        for space in board.all_spaces():\n",
    "            try:\n",
    "                conspecificities[i].append(board.conspecificity(space))\n",
    "            except EmptySpaceError:\n",
    "                continue"
   ]
  },
  {
   "cell_type": "code",
   "execution_count": null,
   "metadata": {},
   "outputs": [],
   "source": [
    "import numpy as np\n",
    "import matplotlib.pyplot as plt\n",
    "\n",
    "\n",
    "plt.hist(conspecificities, rwidth=0.85, alpha = 0.5, color=colours)\n",
    "for i in range(n_simulations):\n",
    "    plt.axvline(x = np.mean(conspecificities[i]), color = colours[i])\n",
    "plt.legend(thresholds)\n",
    "plt.show()"
   ]
  },
  {
   "cell_type": "code",
   "execution_count": null,
   "metadata": {},
   "outputs": [],
   "source": [
    "from display import animate_schelling\n",
    "\n",
    "animate_schelling(20,20,500,500,0.6,0.5,3,0.7, 0.1)"
   ]
  }
 ],
 "metadata": {
  "celltoolbar": "Slideshow",
  "colab": {
   "provenance": [],
   "toc_visible": true
  },
  "kernelspec": {
   "display_name": "Python 3 (ipykernel)",
   "language": "python",
   "name": "python3"
  },
  "language_info": {
   "codemirror_mode": {
    "name": "ipython",
    "version": 3
   },
   "file_extension": ".py",
   "mimetype": "text/x-python",
   "name": "python",
   "nbconvert_exporter": "python",
   "pygments_lexer": "ipython3",
   "version": "3.10.9"
  }
 },
 "nbformat": 4,
 "nbformat_minor": 1
}
