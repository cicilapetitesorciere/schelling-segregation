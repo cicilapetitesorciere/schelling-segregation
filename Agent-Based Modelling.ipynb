{
 "cells": [
  {
   "cell_type": "markdown",
   "metadata": {},
   "source": [
    "Authors: \n",
    "    \n",
    "- **Ciaran Neely**\n",
    "\n",
    "- **Maariya Toman**\n",
    "\n",
    "- **Sanjana Gandhi**"
   ]
  },
  {
   "cell_type": "markdown",
   "metadata": {},
   "source": [
    "*“It’s inevitable, your environment will influence what you do”*. These words from American singer-songwriter Duncan Sheikh can be used as a basis to explain agent-based modelling. \n",
    "\n",
    "Agent-based modelling (ABM) systems simulate the way organisms possibly interact within a population and thus using computational methods, we can predict the outcomes of these complex interactions. (Grimm et al, 2005) \n",
    "\n",
    "It evolved in the mid-1900s to give researchers a way to mathematically visualise phenomena where an entity in a space (an agent) is influenced by its surrounding agents. The agent makes a decision based on certain rules of the population about each agent's neighbours. There can be simpler models with two agents or multi-agent models depending on the population we are studying. \n",
    "\n",
    "Computational methods have given us powerful mathematical methods to understand and simulate these populations. Thus allowing for faster research and for research on hypothetical or unobservable populations. The use of computers now allows us to generate multiple versions of a population thus giving us a more interactive model to study and work within a small amount of time. \n",
    "\n",
    "These models help create and understand the complex phenomena that are at play and can predict the outcomes of agent interactions. The overall population system is understood by breaking down the rules of the agent system and then observing the outcome. (Gustafsson & Sternad, 2010) \n",
    "\n",
    "This concept can be applied in a multitude of fields. In simple language, this type of modelling is used to predict how populations with different agents will regenerate over time and possibly understand the factors of their stabilisation. "
   ]
  },
  {
   "cell_type": "markdown",
   "metadata": {},
   "source": [
    "# History \n",
    "The Von Neumann Machine was a self-replicating machine proposed by Jon Von Neumann in the 1940s and is the earliest model that is based on the principle of agent-based modelling. This model was proposed using only pen and paper since the computational methods for ABM didn't exist yet (Burks & Neumann, 1996). \n",
    "\n",
    "This device led to the more famous cellular automata in which the state of a cell is decided by its neighbouring cells the rules for which are specified for the machine.\n",
    "\n",
    "The cellular automata machine was used extensively in future models and became famous in the 1970s because of Conway’s Game of Life. The game of Life is a zero-player game where the initial state decides how the rest of the game will play out. (Gardner, 1970) \n",
    "\n",
    "In the 1970s Thomas Schelling released his paper titled ‘Dynamic Models of Segregation’ which conceptualised agent-based modelling to simulate segregation models in a typical American neighbourhood (Schelling, 1971).  Axelrod’s Prisoner’s Dilemma and Reynold’s Flocking models are also based on the early principles of agent-based modelling. \n",
    "\n",
    "The social science applications of ABM grew after the 1990s. The applications spanned a vast range of fields and covered multiple types of social phenomena such as pollution, migration, reproduction, health behaviour, epidemic spreads, crowd behaviour, voting behaviour, market simulations and more."
   ]
  },
  {
   "cell_type": "markdown",
   "metadata": {},
   "source": [
    "# A broken-down Agent-based model \n",
    "An agent-based model generally consists of: \n",
    "    \n",
    "1. **Agents**: They are the autonomous entities with specific attributes, behaviours, and rules that dictate how they interact with each other and their environment within the simulation.\n",
    "\n",
    "2. **Learning Rules and Interactions**: Agent-based models define rules that govern how agents interact with each other and their environment. These rules are responsible for dictating agents' decision-making, behaviours, and responses to stimuli and help determine the outcome of an interaction. \n",
    "    \n",
    "3. **Emergent properties**: Agent-Based models can reveal emergent properties, complex patterns or behaviours that arise from interactions among simple agents, which may not be apparent from individual agent behaviours alone.\n",
    "    \n",
    "4. **States and Attributes**: Agents have internal states and attributes that can change over time. These states may represent characteristics like beliefs, emotions, preferences, and more.\n",
    "    \n",
    "5. **Environment**: The environment represents the context in which agents operate. It includes physical space, resources, and external factors that agents interact with.\n",
    "    \n",
    "Of course, when using computational methods, the run time and visualisation components also help determine the way the model works and how fast the model will reach satisfaction. There are several other computational and data-based components as well that make up a complete model, but these are the basic components. (Bonabeau. E, 2002) "
   ]
  },
  {
   "cell_type": "markdown",
   "metadata": {},
   "source": [
    "# Applications \n",
    "\n",
    "1. **Psychological models**: Agent-Based Modeling has found a multitude of applications in almost all areas of psychology to simulate and understand complex behaviours, interactions, and psychological processes. It can be used to model cognitive processes and decision-making strategies of individual agents within a social context (Todd & Gigerenzer, 2003). Another example, of the applications of ABMs in psychology, is explained as follows --  in emergent phenomena, individual behaviours between agents can give rise to complex behaviours and collective phenomena like crowd behaviour, voting, and the way opinions are formed and information is spread in a population. (Centola D, 2010; Deffuant et. al 2000). Schelling’s 1971 paper on racial segregation is a prominent psychological application of agent-based modelling. \n",
    "\n",
    "2. **Neurobiological Models**: Song et al. (2005) explored how neurons interact and form connections over time (plasticity) using agent-based models. These results coupled with further research can help us understand how neural networks form and evolve. The authors used agent-based models to investigate the connectivity patterns of neurons in the neocortex. Their model simulated the growth of neurons' axons and dendrites and the way synapse formation occurred between them. Thus, researchers can gain insights into the rules governing the establishment and plasticity of neural connections in the nervous system, shedding light on how neural circuits can develop and how they might be disrupted depending on changes in the environment.\n",
    "\n",
    "3. **Other Models**: The applications of ABMs are not limited to psychological and neurobiological models, they expand to business and economic models (eg. financial market trends), biological models (eg. population trends, genetic expression), epidemiology (eg. COVID-19 prediction models), and many more across many fields. "
   ]
  },
  {
   "cell_type": "markdown",
   "metadata": {},
   "source": [
    "# Benefits and Limitations\n",
    "\n",
    "The benefits of ABMs are that it captures emergent phenomena which are difficult to predict without computational models. ABMs are also able to naturally describe a system based on its interactions and predictions of the outcome. Finally, their flexibility is important and allows us to observe the effect of nuances in an overall population (akin the to butterfly effect) (Bonabeau E. 2002). However a big limitation one might run into with ABMs is accurately depicting complex behaviour. The higher the complexity, the more power and time are needed to run the models to get close to accurate results. The sensitivity of ABMs can decrease with increased levels of complexity/Explaining the \"why\" of a behaviour cannot be done using an ABM. We are only able to see the outcome of an interaction not why certain interactions may arise. (North M. 2014) \n",
    "\n",
    "Agent-based models are a popular up-and-coming computational model that can help with understanding large-scale population trends using small-scale characteristics. To understand the working and applications of the model better, we will revert to the first application of this model by Schelling (1971). "
   ]
  },
  {
   "cell_type": "markdown",
   "metadata": {},
   "source": [
    "# Schelling's Model\n",
    "\n",
    "Schelling's (1971) original paper focuses on forms of segregation stemming from discriminatory individual behaviour, eliminating systemic processes of segregation as they are difficult to implement within an agent-based model. In this case, the separating mechanisms implemented to explain why segregation may occur are specifically that people may prefer to be with people similar to themselves, and that people will generally want to avoid minority status within a community, giving a lower limit to the amount of like people within a community. These separating mechanisms work together to define a specific number of possible stable configurations, with complete segregation being one such stable equilibrium. Within the model specifically, there are a few other separating mechanisms -- namely neighbourhood configuration, space compartmentalization, and similar preferences for similar individuals. "
   ]
  },
  {
   "cell_type": "markdown",
   "metadata": {},
   "source": [
    "## Spatial Proximity Model\n",
    "\n",
    "All spatial proximity models within the Schelling paper operate on one main principle, the neighbourhood of any particular agent is based on the place within the model where the agent occurs, rather than neighbourhoods being strictly defined. The agents will evaluate the other agents closest to them, at a predetermined range, and will base contentment on the agents within that range. In addition, the agents will move to the closest unoccupied spot that makes them content, rather than moving randomly within the model."
   ]
  },
  {
   "cell_type": "markdown",
   "metadata": {},
   "source": [
    "## Linear Displacement Model\n",
    "\t\n",
    "In the linear model (displayed below), agents were assigned to be in one of two groups, stars and zeroes, with manipulations within the model being based on neighbourhood size, threshold value, the ratio of stars to zeroes in the total population, rules governing movement, and original configurations.\n",
    "\n",
    "Within the original linear model, there are 70 agents (35 stars and 35 zeroes), distributed in a pattern that looks reasonably random, all with a threshold value of 50%, and a neighbourhood size of the four closest agents on either side of each agent. Towards the end of the lines, neighbourhood size is altered, with the neighbourhoods being the 4 nearby agents closest to the centre, and the 1, 2, or 3 nearby agents closest to the end of the line. Each dissatisfied agent moves one at a time, from left to right, to the nearest spot where 50% of their neighbours will be like them. The model’s results show that on average, roughly 80% of any agent’s neighbours will be of a like group and that on average, random sequences will yield groupings anywhere between 5 clusters of average 14 members each to 7/8 clusters of average 9/10 members each."
   ]
  },
  {
   "cell_type": "code",
   "execution_count": null,
   "metadata": {},
   "outputs": [],
   "source": [
    "from model.linear_model import *\n",
    "from display import *\n",
    "\n",
    "lboard = Board1D(70, populations=(35,35), number_of_species = 2, threshold = 0.5, neighbourhood_size=2)\n",
    "\n",
    "animate_schelling(lboard, 500, 50, delay=0.25, border_colour=(128,128,128), tail_length=1)"
   ]
  },
  {
   "cell_type": "markdown",
   "metadata": {},
   "source": [
    "## Variations of the Linear Model"
   ]
  },
  {
   "cell_type": "markdown",
   "metadata": {},
   "source": [
    "### Neighbourhood Size\n",
    "\n",
    "A reduction of neighbourhood size gives the same general pattern of alternating clusters, with a mean of 7 or 8 per cluster."
   ]
  },
  {
   "cell_type": "markdown",
   "metadata": {},
   "source": [
    "### Unequal Group Ratios\n",
    "With a ratio of 1:2, segregation of both minority and majority groups becomes more extreme, with the frequency of minority clusters diminishing more than proportionately. As the random distribution occurs, spots that allow for growth among the minority groups are diminished (spots allowing for 50% of neighbours to be of a like group), causing the minority groups to segregate to one or two nodes where the rest of the like agents will congregate. \n"
   ]
  },
  {
   "cell_type": "markdown",
   "metadata": {},
   "source": [
    "### Restricted Movement\n",
    "\n",
    "Limitation on how far an agent can travel in one move increases the number of possible growth nodes and allows smaller growth nodes to occur. \n"
   ]
  },
  {
   "cell_type": "markdown",
   "metadata": {},
   "source": [
    "## Area Distribution\n",
    "\n",
    "Within a 2D area distribution, blank spaces were implemented, comprising 25-30% of the board, allowing for agents to move into those spaces without significant disruption to the placement of other agents on the board. Neighbourhoods were further defined by referencing the 8 surrounding squares, or when looking at larger neighbourhoods, the 24 surrounding squares. Rules governing movement were the same, and dissatisfied agents moved in order from the top left of the board to the bottom right of the board. As in the linear model, distribution is random, with a 1:1 ratio of stars to zeroes. This model shows, on average, ratios of like neighbours to opposites were at 4:1 for a threshold demand of 50%, and less than 5:1 for threshold demands of 33%. The average agent was in a neighbourhood that was 90% comprised of like neighbours, with 2/3rds of the board having no neighbours of opposing groups."
   ]
  },
  {
   "cell_type": "markdown",
   "metadata": {},
   "source": [
    "## Variations of the Area Model"
   ]
  },
  {
   "cell_type": "markdown",
   "metadata": {},
   "source": [
    "### Unequal demands\n",
    "\n",
    "When one population was more demanding than the other for the amount of like neighbours, the more demanding ended up with a slightly higher proportion of like neighbours than the other group, though not by much. In a model such as this, if the demand thresholds add to more than 100% as a total, we should see almost complete segregation, though it is still possible to have areas of mixed groupings. "
   ]
  },
  {
   "cell_type": "markdown",
   "metadata": {},
   "source": [
    "### Unequal Numbers\n",
    "If one group is put in a minority status, it will experience greater segregation than occurs with equal group numbers. If this group in a minority status also experiences higher threshold demands, that group will experience higher amounts of clustering in a single spot, with higher density experienced in that area, with greater segregation occurring in general."
   ]
  },
  {
   "cell_type": "markdown",
   "metadata": {},
   "source": [
    "### Population Densities\n",
    "\n",
    "In general more demanding agent groups looking at larger neighbourhoods experienced higher population densities, with minority populations tending to accumulate more in densely populated neighbourhoods."
   ]
  },
  {
   "cell_type": "markdown",
   "metadata": {},
   "source": [
    "## Bounded Neighborhood Models\n",
    "\n",
    "Within the bounded neighbourhood model, one major change is made - notably that neighbourhoods are no longer defined in relation to the agent, but are predetermined areas. Agents are concerned only with the ratios of like to unlike groups within that one neighbourhood, and none outside it. One neighbourhood is selected to be preferred by all groups, with every agent attempting to move to that neighbourhood if the racial makeup of the neighbourhood is in line with their tolerance values. \n",
    "The ‘Tipping Phenomenon’ is also highly investigated in this section, this being the number of new members that must come into a bounded community for the original group to become dissatisfied with the racial makeup of the area and leave. This phenomenon, first observed in 1960 by A. J. Mayer, is the phenomenon examined over the course of this paper, with various tipping rates linked to tolerance levels of the groups in the model. While this phenomenon isn’t observable within this paper without being directly manipulated, it can be used to observe the effects and see the rough outcomes with regards to the tipping phenomenon. \n"
   ]
  },
  {
   "cell_type": "markdown",
   "metadata": {},
   "source": [
    "# References\n",
    "\n",
    "1. Grimm, V.; Railsback, S. F. (2005). *Individual-based Modeling and Ecology*. Princeton University Press. p. 485. ISBN 978-0-691-09666-7.\n",
    "\n",
    "2. von Neumann, J.; Burks, A. W. (1966), *Theory of Self-Reproducing Automata*. University of Illinois Press,\n",
    "\n",
    "3. Gardner, M. (1970). *The fantastic combinations of John Conway's new solitaire game 'life'*  Mathematical Games. Scientific American. Vol. 223, no. 4. pp. 120–123. \n",
    "\n",
    "4. Gustafsson, L.; Sternad, M.(2010). *Consistent micro, macro, and state-based population modelling*. Mathematical Biosciences. 225 (2): 94–107. \n",
    "\n",
    "5. Epstein, J. M.; Axtell, R.(1996). &*Growing artificial societies: social science from the bottom up*. Brookings Institution Press. pp. 224. ISBN 978-0-262-55025-3.\n",
    "\n",
    "6. Bonabeau, E. (2002). *Agent-Based Modeling: Methods and Techniques for Simulating Human Systems*. Proceedings of the National Academy of Sciences of the United States of America, 99(10), 7280–7287. \n",
    "\n",
    "7. Todd, P. M., & Gigerenzer, G. (2003). *Bounding rationality to the world*. Journal of Economic Psychology, 24(2), 143-165.\n",
    "\n",
    "8. Deffuant, G., Neau, D., Amblard, F., & Weisbuch, G. (2000). *Mixing beliefs among interacting agents*. Advances in Complex Systems, 3(01n04), 87-98.\n",
    "\n",
    "9. Song, S., Sjöström, P. J., Reigl, M., Nelson, S., & Chklovskii, D. B. (2005). *Highly Nonrandom Features of Synaptic Connectivity in Local Cortical Circuits*. PLoS Biology, 3(3)\n",
    "\n",
    "10. North M (2014). *A theoretical formalism for analyzing agent-based models*. Complex Adaptive Systems Modeling 2 (1): 3.\n",
    "\n",
    "11. Schelling T.C.  (1971) *Dynamic models of segregation*, The Journal of Mathematical Sociology, 1:2, 143-186, DOI: 10.1080/0022250X.1971.9989794\n"
   ]
  }
 ],
 "metadata": {
  "celltoolbar": "Slideshow",
  "colab": {
   "provenance": [],
   "toc_visible": true
  },
  "kernelspec": {
   "display_name": "Python 3 (ipykernel)",
   "language": "python",
   "name": "python3"
  },
  "language_info": {
   "codemirror_mode": {
    "name": "ipython",
    "version": 3
   },
   "file_extension": ".py",
   "mimetype": "text/x-python",
   "name": "python",
   "nbconvert_exporter": "python",
   "pygments_lexer": "ipython3",
   "version": "3.10.9"
  }
 },
 "nbformat": 4,
 "nbformat_minor": 1
}
