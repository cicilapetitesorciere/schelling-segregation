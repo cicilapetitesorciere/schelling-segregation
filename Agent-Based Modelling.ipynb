{
 "cells": [
  {
   "cell_type": "markdown",
   "metadata": {},
   "source": [
    "Authors: \n",
    "    \n",
    "- **Ciaran Neely**\n",
    "\n",
    "- **Maariya Toman**\n",
    "\n",
    "- **Sanjana Gandhi**"
   ]
  },
  {
   "cell_type": "markdown",
   "metadata": {},
   "source": [
    "*“It’s inevitable, your environment will influence what you do”*. These words from American singer-songwriter Duncan Sheikh can be used as a basis to explain agent-based modelling. \n",
    "\n",
    "Agent-based modelling (ABM) systems simulate the way organisms possibly interact within a population and thus using computational methods, we can predict the outcomes of these complex interactions. (Grimm et al, 2005) \n",
    "\n",
    "It evolved in the mid-1900s to give researchers a way to mathematically visualise phenomena where an entity in a space (an agent) is influenced by its surrounding agents. The agent makes a decision based on certain rules of the population about each agent's neighbours. There can be simpler models with two agents or multi-agent models depending on the population we are studying. \n",
    "\n",
    "Computational methods have given us powerful mathematical methods to understand and simulate these populations. Thus allowing for faster research and for research on hypothetical or unobservable populations. The use of computers now allows us to generate multiple versions of a population thus giving us a more interactive model to study and work within a small amount of time. \n",
    "\n",
    "These models help create and understand the complex phenomena that are at play and can predict the outcomes of agent interactions. The overall population system is understood by breaking down the rules of the agent system and then observing the outcome. (Gustafsson & Sternad, 2010) \n",
    "\n",
    "This concept can be applied in a multitude of fields. In simple language, this type of modelling is used to predict how populations with different agents will regenerate over time and possibly understand the factors of their stabilisation. "
   ]
  },
  {
   "cell_type": "markdown",
   "metadata": {},
   "source": [
    "# History \n",
    "The Von Neumann Machine was a self-replicating machine proposed by Jon Von Neumann in the 1940s and is the earliest model that is based on the principle of agent-based modelling. This model was proposed using only pen and paper since the computational methods for ABM didn't exist yet (Burks & Neumann, 1996). \n",
    "\n",
    "This device led to the more famous cellular automata in which the state of a cell is decided by its neighbouring cells the rules for which are specified for the machine.\n",
    "\n",
    "The cellular automata machine was used extensively in future models and became famous in the 1970s because of Conway’s Game of Life. The game of Life is a zero-player game where the initial state decides how the rest of the game will play out. (Gardner, 1970) \n",
    "\n",
    "In the 1970s Thomas Schelling released his paper titled ‘Dynamic Models of Segregation’ which conceptualised agent-based modelling to simulate segregation models in a typical American neighbourhood (Schelling, 1971).  Axelrod’s Prisoner’s Dilemma and Reynold’s Flocking models are also based on the early principles of agent-based modelling. \n",
    "\n",
    "The social science applications of ABM grew after the 1990s. The applications spanned a vast range of fields and covered multiple types of social phenomena such as pollution, migration, reproduction, health behaviour, epidemic spreads, crowd behaviour, voting behaviour, market simulations and more."
   ]
  },
  {
   "cell_type": "markdown",
   "metadata": {},
   "source": [
    "# A broken-down Agent-based model \n",
    "An agent-based model generally consists of: \n",
    "    \n",
    "1. **Agents**: They are the autonomous entities with specific attributes, behaviours, and rules that dictate how they interact with each other and their environment within the simulation.\n",
    "\n",
    "2. **Learning Rules and Interactions**: Agent-based models define rules that govern how agents interact with each other and their environment. These rules are responsible for dictating agents' decision-making, behaviours, and responses to stimuli and help determine the outcome of an interaction. \n",
    "    \n",
    "3. **Emergent properties**: Agent-Based models can reveal emergent properties, complex patterns or behaviours that arise from interactions among simple agents, which may not be apparent from individual agent behaviours alone.\n",
    "    \n",
    "4. **States and Attributes**: Agents have internal states and attributes that can change over time. These states may represent characteristics like beliefs, emotions, preferences, and more.\n",
    "    \n",
    "5. **Environment**: The environment represents the context in which agents operate. It includes physical space, resources, and external factors that agents interact with.\n",
    "    \n",
    "Of course, when using computational methods, the run time and visualisation components also help determine the way the model works and how fast the model will reach satisfaction. There are several other computational and data-based components as well that make up a complete model, but these are the basic components. (Bonabeau. E, 2002) "
   ]
  },
  {
   "cell_type": "markdown",
   "metadata": {},
   "source": [
    "# Applications \n",
    "\n",
    "1. **Psychological models**: Agent-Based Modeling has found a multitude of applications in almost all areas of psychology to simulate and understand complex behaviours, interactions, and psychological processes. It can be used to model cognitive processes and decision-making strategies of individual agents within a social context (Todd & Gigerenzer, 2003). Another example, of the applications of ABMs in psychology, is explained as follows --  in emergent phenomena, individual behaviours between agents can give rise to complex behaviours and collective phenomena like crowd behaviour, voting, and the way opinions are formed and information is spread in a population. (Centola D, 2010; Deffuant et. al 2000). Schelling’s 1971 paper on racial segregation is a prominent psychological application of agent-based modelling. \n",
    "\n",
    "2. **Neurobiological Models**: Song et al. (2005) explored how neurons interact and form connections over time (plasticity) using agent-based models. These results coupled with further research can help us understand how neural networks form and evolve. The authors used agent-based models to investigate the connectivity patterns of neurons in the neocortex. Their model simulated the growth of neurons' axons and dendrites and the way synapse formation occurred between them. Thus, researchers can gain insights into the rules governing the establishment and plasticity of neural connections in the nervous system, shedding light on how neural circuits can develop and how they might be disrupted depending on changes in the environment.\n",
    "\n",
    "3. **Other Models**: The applications of ABMs are not limited to psychological and neurobiological models, they expand to business and economic models (eg. financial market trends), biological models (eg. population trends, genetic expression), epidemiology (eg. COVID-19 prediction models), and many more across many fields. "
   ]
  },
  {
   "cell_type": "markdown",
   "metadata": {},
   "source": [
    "# Benefits and Limitations\n",
    "\n",
    "The benefits of ABMs are that it captures emergent phenomena which are difficult to predict without computational models. ABMs are also able to naturally describe a system based on its interactions and predictions of the outcome. Finally, their flexibility is important and allows us to observe the effect of nuances in an overall population (akin the to butterfly effect) (Bonabeau E. 2002). However a big limitation one might run into with ABMs is accurately depicting complex behaviour. The higher the complexity, the more power and time are needed to run the models to get close to accurate results. The sensitivity of ABMs can decrease with increased levels of complexity/Explaining the \"why\" of a behaviour cannot be done using an ABM. We are only able to see the outcome of an interaction not why certain interactions may arise. (North M. 2014) \n",
    "\n",
    "Agent-based models are a popular up-and-coming computational model that can help with understanding large-scale population trends using small-scale characteristics. To understand the working and applications of the model better, we will revert to the first application of this model by Schelling (1971). "
   ]
  },
  {
   "cell_type": "markdown",
   "metadata": {},
   "source": [
    "# Schelling's Proximity Models\n",
    "\n",
    "Schelling's (1971) original paper focuses on forms of segregation stemming from discriminatory individual behaviour, eliminating systemic processes of segregation as they are difficult to implement within an agent-based model. In this case, the separating mechanisms implemented to explain why segregation may occur are specifically that individuals may prefer to be with people similar to themselves, and that people will generally want to avoid minority status within a community, giving a lower limit to the amount of like people within a community. These separating mechanisms work together to define a specific number of possible stable configurations, with complete segregation being one such stable equilibrium. Within the model specifically, there are a few other separating mechanisms -- namely neighbourhood configuration, space compartmentalization, and similar preferences for similar individuals. All of Schelling's proximity models operate on the principal that each agent's neighbourhood is entirely relative to its location, rather than neighbourhoods having well-defined borders common to all agents."
   ]
  },
  {
   "cell_type": "markdown",
   "metadata": {},
   "source": [
    "## Linear Displacement Model\n",
    "\t\n",
    "The simplest of Schelling's models exists only in one dimension. Agents are distributed randomly across a single row of cells, and are each of members of some species. An agent is considered \"satisfied\" if its conspecificity (i.e. the proportion of its neighbours which are of the same species) is above some given threshold.\n",
    "\n",
    "Schelling originally used 70 agents, evenly divided between two species, each with a threshold of 50%, and an agent's neighbourhood defined as all other agents no more than 2 cells away from it.\n",
    "\n",
    "Each dissatisfied agent moves one at a time, from left to right, to the nearest spot where 50% of their neighbours will be of the same species. The model’s results show that on average, roughly 80% of any agent’s neighbours will be conspecific and that generally, random sequences will yield groupings anywhere between 5 clusters of average 14 members each to 7/8 clusters of average 9/10 members each."
   ]
  },
  {
   "cell_type": "code",
   "execution_count": null,
   "metadata": {},
   "outputs": [],
   "source": [
    "from model.linear_model import *\n",
    "from display import *\n",
    "\n",
    "lboard = Board1D(\n",
    "    size=70,\n",
    "    populations=(35, 35),\n",
    "    number_of_species=2,\n",
    "    threshold=0.5,\n",
    "    neighbourhood_size=2,\n",
    ")\n",
    "\n",
    "animate_schelling(\n",
    "    board=lboard,\n",
    "    img_width=500,\n",
    "    img_height=50,\n",
    "    delay=0.25,\n",
    "    border_params=(1, 128, 128, 128),\n",
    "    tail_length=1,\n",
    "    max_iter=100,\n",
    "    outfile_name=\"schelling_linear.gif\",\n",
    ")"
   ]
  },
  {
   "cell_type": "markdown",
   "metadata": {},
   "source": [
    "## Variations of the Linear Model"
   ]
  },
  {
   "cell_type": "markdown",
   "metadata": {},
   "source": [
    "### Neighbourhood Size\n",
    "\n",
    "A reduction of neighbourhood size gives the same general pattern of alternating clusters, with a mean of 7 or 8 per cluster."
   ]
  },
  {
   "cell_type": "code",
   "execution_count": null,
   "metadata": {},
   "outputs": [],
   "source": [
    "from model.linear_model import *\n",
    "from display import *\n",
    "\n",
    "lboard = Board1D(\n",
    "    size=70,\n",
    "    populations=(35, 35),\n",
    "    number_of_species=2,\n",
    "    threshold=0.5,\n",
    "    neighbourhood_size=1,  # <-- try changing this and restarting the cell!\n",
    ")\n",
    "\n",
    "animate_schelling(\n",
    "    board=lboard,\n",
    "    img_width=500,\n",
    "    img_height=50,\n",
    "    delay=0.25,\n",
    "    border_params=(1, 128, 128, 128),\n",
    "    tail_length=1,\n",
    "    max_iter=100,\n",
    "    outfile_name=\"schelling_linear_with_small_neighbourhood.gif\",\n",
    ")\n",
    "\n"
   ]
  },
  {
   "cell_type": "markdown",
   "metadata": {},
   "source": [
    "### Unequal Group Ratios\n",
    "With a ratio of 1:2, segregation of both minority and majority groups becomes more extreme, with the frequency of minority clusters diminishing more than proportionately. As the random distribution occurs, spots that allow for growth among the minority groups are diminished (spots allowing for 50% of neighbours to be of a like group), causing the minority groups to segregate to one or two nodes where the rest of the like agents will congregate. \n"
   ]
  },
  {
   "cell_type": "code",
   "execution_count": null,
   "metadata": {},
   "outputs": [],
   "source": [
    "from model.linear_model import *\n",
    "from display import *\n",
    "\n",
    "lboard = Board1D(\n",
    "    size=60,\n",
    "    populations=(40, 20),  # <-- try changing this and restarting the cell!\n",
    "    number_of_species=2,\n",
    "    threshold=0.5,\n",
    "    neighbourhood_size=2,\n",
    ")\n",
    "\n",
    "animate_schelling(\n",
    "    board=lboard,\n",
    "    img_width=500,\n",
    "    img_height=50,\n",
    "    delay=0.25,\n",
    "    border_params=(1, 128, 128, 128),\n",
    "    tail_length=1,\n",
    "    max_iter=100,\n",
    "    outfile_name=\"schelling_linear_with_unequal_grouping.gif\",\n",
    ")"
   ]
  },
  {
   "cell_type": "markdown",
   "metadata": {},
   "source": [
    "### Restricted Movement\n",
    "\n",
    "Limitation on how far an agent can travel in one move increases the number of possible growth nodes and allows smaller growth nodes to occur. \n"
   ]
  },
  {
   "cell_type": "code",
   "execution_count": null,
   "metadata": {},
   "outputs": [],
   "source": [
    "from model.linear_model import *\n",
    "from display import *\n",
    "\n",
    "lboard = Board1D(\n",
    "    size=70,\n",
    "    populations=(35, 35),\n",
    "    number_of_species=2,\n",
    "    threshold=0.5,\n",
    "    neighbourhood_size=2,\n",
    "    max_travel_distance=10,  # <-- try changing this and restarting the cell!\n",
    ")\n",
    "\n",
    "animate_schelling(\n",
    "    board=lboard,\n",
    "    img_width=500,\n",
    "    img_height=50,\n",
    "    delay=0.25,\n",
    "    border_params=(1, 128, 128, 128),\n",
    "    tail_length=1,\n",
    "    max_iter=100,\n",
    "    outfile_name=\"schelling_linear_with_restricted_movement.gif\",\n",
    ")"
   ]
  },
  {
   "cell_type": "markdown",
   "metadata": {},
   "source": [
    "## Area Distribution\n",
    "\n",
    "These principals can be brought up to two dimensions, however it is not as easy to simply displace other agents the way we can in one dimension, so we will have to leave some cells empty and allow movement only into those empty cells.\n",
    "\n",
    "An agent's neighbourhoods was once again defined as other agents within a certain distance, measued using a square analogue of a radius. For instance, in the following diagram, the points labelled `1` have a distance 1 from the point labelled `0`, the points labelled `2` have a distance of 2 from the point labelled `0`, and so on:\n",
    "\n",
    "```\n",
    "3 3 3 3 3 3 3\n",
    "3 2 2 2 2 2 3\n",
    "3 2 1 1 1 2 3\n",
    "3 2 1 0 1 2 3\n",
    "3 2 1 1 1 2 3\n",
    "3 2 2 2 2 2 3\n",
    "3 3 3 3 3 3 3\n",
    "```\n",
    "\n",
    "Schelling originally used rules similar to those in the linear displacement model to govern the movement of agents. Starting from the top-left of the board and going line by line across and down to the bottom left, agents were moved to the closest cell which they would be satisfied in. However we decided to try something a little bit more interesting in our implementation. The order in which agents are allowed to move is random as well as their destination. Originally we limited the distance which agents could move in a single turn, however this lead to agents often getting perminently trapped on blocks of other species, unable to escape. To address this we gave agents licence to theoretically travel to any empty cell on the board, but made them exponentially prefer closer cells (see `model.area_model.Board2D.update.find_and_move_to_new_spot` for details). This algorithm strikes a ballance between free and restricted movement, and tends to look rather biological, especially if ran with small sparcely-filled board."
   ]
  },
  {
   "cell_type": "code",
   "execution_count": null,
   "metadata": {},
   "outputs": [],
   "source": [
    "from model.area_model import *\n",
    "from display import *\n",
    "\n",
    "aboard = Board2D(\n",
    "    width=10,\n",
    "    height=10,\n",
    "    total_fill_proportion=0.2,\n",
    "    number_of_species=2,\n",
    "    threshold=0.5,\n",
    "    neighbourhood_size=1,\n",
    ")\n",
    "\n",
    "animate_schelling(\n",
    "    board=aboard,\n",
    "    img_width=500,\n",
    "    img_height=500,\n",
    "    delay=0.25,\n",
    "    tail_length=1,\n",
    "    max_iter=100,\n",
    "    outfile_name=\"schelling_area_tiny.gif\",\n",
    ")"
   ]
  },
  {
   "cell_type": "markdown",
   "metadata": {},
   "source": [
    "A more reasonable size and fill proportion however is as follows"
   ]
  },
  {
   "cell_type": "code",
   "execution_count": null,
   "metadata": {},
   "outputs": [],
   "source": [
    "from model.area_model import *\n",
    "from display import *\n",
    "\n",
    "aboard = Board2D(\n",
    "    width=80,\n",
    "    height=80,\n",
    "    total_fill_proportion=0.7,\n",
    "    number_of_species=2,\n",
    "    threshold=0.5,\n",
    "    neighbourhood_size=1\n",
    ")\n",
    "\n",
    "animate_schelling(\n",
    "    board=aboard,\n",
    "    img_width=500,\n",
    "    img_height=500,\n",
    "    delay=0.25,\n",
    "    tail_length=1,\n",
    "    max_iter=100,\n",
    "    outfile_name=\"schelling_area.gif\",\n",
    ")"
   ]
  },
  {
   "cell_type": "markdown",
   "metadata": {},
   "source": [
    "## Variations of the Area Model"
   ]
  },
  {
   "cell_type": "markdown",
   "metadata": {},
   "source": [
    "### Uneven Thresholds\n",
    "\n",
    "When one population was more demanding than the other for the amount of like neighbours, the more demanding ended up with a slightly higher proportion of like neighbours than the other group, though not by much. In a model such as this, if the demand thresholds add to more than 100% as a total, we should see almost complete segregation, though it is still possible to have areas of mixed groupings. "
   ]
  },
  {
   "cell_type": "code",
   "execution_count": null,
   "metadata": {},
   "outputs": [],
   "source": [
    "from model.area_model import *\n",
    "from display import *\n",
    "\n",
    "aboard = Board2D(\n",
    "    width=80,\n",
    "    height=80,\n",
    "    total_fill_proportion=0.7,\n",
    "    number_of_species=2,\n",
    "    thresholds=(0.5, 0.7),  # <-- try changing this and restarting the cell!\n",
    "    neighbourhood_size=1,\n",
    ")\n",
    "\n",
    "animate_schelling(\n",
    "    board=aboard,\n",
    "    img_width=500,\n",
    "    img_height=500,\n",
    "    delay=0.25,\n",
    "    tail_length=1,\n",
    "    max_iter=100,\n",
    "    outfile_name=\"schelling_area_with_uneven_thresholds.gif\",\n",
    ")"
   ]
  },
  {
   "cell_type": "markdown",
   "metadata": {},
   "source": [
    "### Unequal Populations\n",
    "If one group is put in a minority status, it will experience greater segregation than occurs with equal group numbers. If this group in a minority status also experiences higher threshold demands, that group will experience higher amounts of clustering in a single spot, with higher density experienced in that area, with greater segregation occurring in general."
   ]
  },
  {
   "cell_type": "code",
   "execution_count": null,
   "metadata": {},
   "outputs": [],
   "source": [
    "from model.area_model import *\n",
    "from display import *\n",
    "\n",
    "aboard = Board2D(\n",
    "    width=80,\n",
    "    height=80,\n",
    "    fill_proportions=(0.55, 0.15),  # <-- try changing this and restarting the cell!\n",
    "    number_of_species=2,\n",
    "    threshold=0.5,\n",
    "    neighbourhood_size=1,\n",
    ")\n",
    "\n",
    "animate_schelling(\n",
    "    board=aboard,\n",
    "    img_width=500,\n",
    "    img_height=500,\n",
    "    delay=0.25,\n",
    "    tail_length=1,\n",
    "    max_iter=100,\n",
    "    outfile_name=\"schelling_area_with_unequal_populations.gif\",\n",
    ")"
   ]
  },
  {
   "cell_type": "markdown",
   "metadata": {},
   "source": [
    "## Bounded Neighborhood Models\n",
    "\n",
    "We can also violate the central principal of Schelling's model and create bounded neighbourhoods. In this type of model neighbourhoods are no longer defined just in relation to the agent, but are predetermined areas. Agents are concerned only with proportion of conspecifics in that one neighbourhood, and none outside it. One neighbourhood is selected to be preferred by all groups, with every agent attempting to move to that neighbourhood if the racial makeup of the neighbourhood is in line with their tolerance values. \n",
    "\n",
    "The \"Tipping Phenomenon\" is also highly investigated in this section, this being the number of new members that must come into a bounded community for the original group to become dissatisfied with the racial makeup of the area and leave. This phenomenon, first observed in 1960 by A. J. Mayer, is the phenomenon examined over the course of this paper, with various tipping rates linked to tolerance levels of the groups in the model. While this phenomenon isn’t observable within this paper without being directly manipulated, it can be used to observe the effects and see the rough outcomes with regards to the tipping phenomenon. \n"
   ]
  },
  {
   "cell_type": "code",
   "execution_count": null,
   "metadata": {},
   "outputs": [],
   "source": [
    "from model.neighbourhood_model import *\n",
    "from display import *\n",
    "\n",
    "nboard = BoardBN(\n",
    "    width=80,\n",
    "    height=80,\n",
    "    total_fill_proportion=0.7,\n",
    "    number_of_species=2,\n",
    "    threshold=0.6,\n",
    "    neighbourhood_size=8,\n",
    "    proximity_bias = 0.2,\n",
    ")\n",
    "\n",
    "animate_schelling(\n",
    "    board=nboard,\n",
    "    img_width=500,\n",
    "    img_height=500,\n",
    "    delay=0.1,\n",
    "    tail_length=1,\n",
    "    border_params=(8, 128, 128, 128),\n",
    "    max_iter=100,\n",
    "    outfile_name = \"schelling_bounded_neighbourhoods.gif\"\n",
    ")"
   ]
  },
  {
   "cell_type": "markdown",
   "metadata": {},
   "source": [
    "# References\n",
    "\n",
    "1. Grimm, V.; Railsback, S. F. (2005). *Individual-based Modeling and Ecology*. Princeton University Press. p. 485. ISBN 978-0-691-09666-7.\n",
    "\n",
    "2. von Neumann, J.; Burks, A. W. (1966), *Theory of Self-Reproducing Automata*. University of Illinois Press,\n",
    "\n",
    "3. Gardner, M. (1970). *The fantastic combinations of John Conway's new solitaire game 'life'*  Mathematical Games. Scientific American. Vol. 223, no. 4. pp. 120–123. \n",
    "\n",
    "4. Gustafsson, L.; Sternad, M.(2010). *Consistent micro, macro, and state-based population modelling*. Mathematical Biosciences. 225 (2): 94–107. \n",
    "\n",
    "5. Epstein, J. M.; Axtell, R.(1996). &*Growing artificial societies: social science from the bottom up*. Brookings Institution Press. pp. 224. ISBN 978-0-262-55025-3.\n",
    "\n",
    "6. Bonabeau, E. (2002). *Agent-Based Modeling: Methods and Techniques for Simulating Human Systems*. Proceedings of the National Academy of Sciences of the United States of America, 99(10), 7280–7287. \n",
    "\n",
    "7. Todd, P. M., & Gigerenzer, G. (2003). *Bounding rationality to the world*. Journal of Economic Psychology, 24(2), 143-165.\n",
    "\n",
    "8. Deffuant, G., Neau, D., Amblard, F., & Weisbuch, G. (2000). *Mixing beliefs among interacting agents*. Advances in Complex Systems, 3(01n04), 87-98.\n",
    "\n",
    "9. Song, S., Sjöström, P. J., Reigl, M., Nelson, S., & Chklovskii, D. B. (2005). *Highly Nonrandom Features of Synaptic Connectivity in Local Cortical Circuits*. PLoS Biology, 3(3)\n",
    "\n",
    "10. North M (2014). *A theoretical formalism for analyzing agent-based models*. Complex Adaptive Systems Modeling 2 (1): 3.\n",
    "\n",
    "11. Schelling T.C.  (1971) *Dynamic models of segregation*, The Journal of Mathematical Sociology, 1:2, 143-186, DOI: 10.1080/0022250X.1971.9989794\n"
   ]
  }
 ],
 "metadata": {
  "celltoolbar": "Slideshow",
  "colab": {
   "provenance": [],
   "toc_visible": true
  },
  "kernelspec": {
   "display_name": "Python 3 (ipykernel)",
   "language": "python",
   "name": "python3"
  },
  "language_info": {
   "codemirror_mode": {
    "name": "ipython",
    "version": 3
   },
   "file_extension": ".py",
   "mimetype": "text/x-python",
   "name": "python",
   "nbconvert_exporter": "python",
   "pygments_lexer": "ipython3",
   "version": "3.10.9"
  }
 },
 "nbformat": 4,
 "nbformat_minor": 1
}
