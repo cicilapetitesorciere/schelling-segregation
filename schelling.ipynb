{
 "cells": [
  {
   "cell_type": "code",
   "execution_count": null,
   "metadata": {},
   "outputs": [],
   "source": [
    "from animation import *\n",
    "\n",
    "animate_schelling(\n",
    "    board_width=10,\n",
    "    board_height=10,\n",
    "    img_width=500,\n",
    "    img_height=500,\n",
    "    fill_proportion=0.1,\n",
    "    delay=0.1,\n",
    "    number_of_species=3,\n",
    "    thresholds=0.65,\n",
    "    proximity_bias=0.5,\n",
    "    record_moves=True,\n",
    "    outfile_name=\"tmp.gif\",\n",
    ")"
   ]
  },
  {
   "cell_type": "code",
   "execution_count": null,
   "metadata": {},
   "outputs": [],
   "source": [
    "from animation import *\n",
    "import os\n",
    "\n",
    "os.system(\"mpg123 music.mp3&\")\n",
    "\n",
    "animate_schelling(\n",
    "    board_width=250,\n",
    "    board_height=250,\n",
    "    img_width=500,\n",
    "    img_height=500,\n",
    "    fill_proportion=0.6,\n",
    "    delay=0.0,\n",
    "    number_of_species=3,\n",
    "    thresholds=0.65,\n",
    "    proximity_bias=0.5,\n",
    "    outfile_name=\"tmp.gif\",\n",
    ")"
   ]
  },
  {
   "cell_type": "code",
   "execution_count": null,
   "metadata": {},
   "outputs": [],
   "source": [
    "import os\n",
    "\n",
    "os.system(\"killall mpg123\")"
   ]
  }
 ],
 "metadata": {
  "celltoolbar": "Slideshow",
  "colab": {
   "provenance": [],
   "toc_visible": true
  },
  "kernelspec": {
   "display_name": "Python 3 (ipykernel)",
   "language": "python",
   "name": "python3"
  },
  "language_info": {
   "codemirror_mode": {
    "name": "ipython",
    "version": 3
   },
   "file_extension": ".py",
   "mimetype": "text/x-python",
   "name": "python",
   "nbconvert_exporter": "python",
   "pygments_lexer": "ipython3",
   "version": "3.10.9"
  }
 },
 "nbformat": 4,
 "nbformat_minor": 1
}
