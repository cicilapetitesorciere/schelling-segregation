{
 "cells": [
  {
   "cell_type": "code",
   "execution_count": null,
   "metadata": {
    "colab": {
     "base_uri": "https://localhost:8080/",
     "height": 1000
    },
    "id": "RbqNhF-k-_hB",
    "outputId": "e768af8d-8594-4e68-e644-438b68408f85",
    "slideshow": {
     "slide_type": "skip"
    }
   },
   "outputs": [],
   "source": [
    "from board import *\n",
    "from PIL import Image, ImageDraw\n",
    "from IPython.display import display, clear_output\n",
    "import time\n",
    "import os\n",
    "\n",
    "\n",
    "def colourmap(species: int):\n",
    "    if species == -1:\n",
    "        return (0, 0, 0)\n",
    "    elif species == 0:\n",
    "        return (170, 150, 50)\n",
    "    elif species == 1:\n",
    "        return (181, 45, 45)\n",
    "    elif species == 2:\n",
    "        return (45, 45, 181)\n",
    "\n",
    "\n",
    "def animate_schelling(\n",
    "    board_width,\n",
    "    board_height,\n",
    "    img_width,\n",
    "    img_height,\n",
    "    fill_proportion,\n",
    "    delay,\n",
    "    number_of_species,\n",
    "    thresholds,\n",
    "    proximity_bias,\n",
    "    theatrics=False,\n",
    "    border_colour=None,\n",
    "    display_conspecificity=False,\n",
    "):\n",
    "\n",
    "    board = Board(\n",
    "        shape=(board_width, board_height),\n",
    "        n=int((board_width * board_height / number_of_species) * fill_proportion),\n",
    "        thresholds=thresholds,\n",
    "        k=number_of_species,\n",
    "        proximity_bias=proximity_bias,\n",
    "    )\n",
    "\n",
    "    assert img_width >= board.shape[X] and img_height >= board.shape[Y]\n",
    "\n",
    "    def draw_board():\n",
    "        img = Image.new(\"RGB\", board.shape)\n",
    "        for i in range(board.shape[X]):\n",
    "            for j in range(board.shape[Y]):\n",
    "                img.putpixel((i, j), colourmap(board[(i, j)]))\n",
    "        img = img.resize((img_width, img_height), resample=Image.BOX)\n",
    "\n",
    "        draw = ImageDraw.Draw(img)\n",
    "\n",
    "        cell_width = img_width / board.shape[X]\n",
    "        cell_height = img_height / board.shape[Y]\n",
    "        if display_conspecificity:\n",
    "            for i in range(board.shape[X]):\n",
    "                for j in range(board.shape[Y]):\n",
    "                    if board[(i, j)] != -1:\n",
    "                        draw.text(\n",
    "                            (int(i * cell_width) + 10, int(j * cell_height)),\n",
    "                            str(round(100 * board.conspecificity((i, j)))) + \"% \",\n",
    "                        )\n",
    "                        draw.text(\n",
    "                            (int(i * cell_width) + 10, int((j + 0.5) * cell_height)),\n",
    "                            \":)\" if board.is_satisfied((i, j)) else \":(\",\n",
    "                        )\n",
    "\n",
    "        if border_colour != None:\n",
    "            for i in range(board.shape[X]):\n",
    "                for y in range(img_height):\n",
    "                    img.putpixel((int(i * cell_width), y), border_colour)\n",
    "            for y in range(img_height):\n",
    "                img.putpixel((img_width - 1, y), border_colour)\n",
    "            for j in range(board.shape[Y]):\n",
    "                for x in range(img_width):\n",
    "                    img.putpixel((x, int(j * cell_height)), border_colour)\n",
    "            for x in range(img_width):\n",
    "                img.putpixel((x, img_height - 1), border_colour)\n",
    "\n",
    "        return img\n",
    "\n",
    "    initial_board_img = draw_board()\n",
    "\n",
    "    if theatrics:\n",
    "        try:\n",
    "            os.system(\"mpg123 music.mp3&\")\n",
    "        except Exception:\n",
    "            pass\n",
    "\n",
    "    while True:\n",
    "        try:\n",
    "            img = draw_board()\n",
    "            clear_output(wait=True)\n",
    "            total_satisfied = board.total_satisfied()\n",
    "            print(\n",
    "                \"satisfied: \"\n",
    "                + str(round(100 * total_satisfied / board.number_of_agents))\n",
    "                + \"%\"\n",
    "            )\n",
    "            display(img)\n",
    "            if total_satisfied == board.number_of_agents:\n",
    "                # break\n",
    "                pass\n",
    "            time.sleep(delay)\n",
    "            board.update()\n",
    "\n",
    "        except KeyboardInterrupt:\n",
    "            break\n",
    "\n",
    "    clear_output(wait=True)\n",
    "    print(\"How it started:\")\n",
    "    display(initial_board_img)\n",
    "    print()\n",
    "    print(\"How it's going:\")\n",
    "    display(img)"
   ]
  },
  {
   "cell_type": "code",
   "execution_count": null,
   "metadata": {
    "slideshow": {
     "slide_type": "skip"
    }
   },
   "outputs": [],
   "source": [
    "animate_schelling(\n",
    "    board_width=10,\n",
    "    board_height=10,\n",
    "    img_width=500,\n",
    "    img_height=500,\n",
    "    fill_proportion=0.1,\n",
    "    delay=1.1,\n",
    "    number_of_species=2,\n",
    "    thresholds=0.65,\n",
    "    proximity_bias=0.5,\n",
    "    border_colour=(255, 255, 255),\n",
    ")"
   ]
  },
  {
   "cell_type": "code",
   "execution_count": null,
   "metadata": {
    "slideshow": {
     "slide_type": "skip"
    }
   },
   "outputs": [],
   "source": [
    "animate_schelling(\n",
    "    board_width=400,\n",
    "    board_height=400,\n",
    "    img_width=500,\n",
    "    img_height=500,\n",
    "    fill_proportion=0.85,\n",
    "    delay=0.0,\n",
    "    number_of_species=2,\n",
    "    thresholds=0.65,\n",
    "    proximity_bias=0.5,\n",
    ")"
   ]
  },
  {
   "cell_type": "markdown",
   "metadata": {
    "slideshow": {
     "slide_type": "skip"
    }
   },
   "source": [
    "# Colourful"
   ]
  },
  {
   "cell_type": "code",
   "execution_count": null,
   "metadata": {
    "slideshow": {
     "slide_type": "slide"
    }
   },
   "outputs": [],
   "source": [
    "animate_schelling(\n",
    "    board_width=250,\n",
    "    board_height=250,\n",
    "    img_width=500,\n",
    "    img_height=500,\n",
    "    fill_proportion=0.6,\n",
    "    delay=0.1,\n",
    "    number_of_species=3,\n",
    "    thresholds=0.65,\n",
    "    proximity_bias=0.5,\n",
    "    theatrics=True,\n",
    ")"
   ]
  },
  {
   "cell_type": "code",
   "execution_count": null,
   "metadata": {
    "slideshow": {
     "slide_type": "skip"
    }
   },
   "outputs": [],
   "source": [
    "import os\n",
    "\n",
    "os.system(\"killall mpg123\")"
   ]
  }
 ],
 "metadata": {
  "celltoolbar": "Slideshow",
  "colab": {
   "provenance": [],
   "toc_visible": true
  },
  "kernelspec": {
   "display_name": "Python 3 (ipykernel)",
   "language": "python",
   "name": "python3"
  },
  "language_info": {
   "codemirror_mode": {
    "name": "ipython",
    "version": 3
   },
   "file_extension": ".py",
   "mimetype": "text/x-python",
   "name": "python",
   "nbconvert_exporter": "python",
   "pygments_lexer": "ipython3",
   "version": "3.10.9"
  }
 },
 "nbformat": 4,
 "nbformat_minor": 1
}
